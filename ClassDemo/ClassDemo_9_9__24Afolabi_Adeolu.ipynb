{
  "nbformat": 4,
  "nbformat_minor": 0,
  "metadata": {
    "colab": {
      "provenance": [],
      "authorship_tag": "ABX9TyMtLiKqYgpcdV/Wqn+9nDkT",
      "include_colab_link": true
    },
    "kernelspec": {
      "name": "python3",
      "display_name": "Python 3"
    },
    "language_info": {
      "name": "python"
    }
  },
  "cells": [
    {
      "cell_type": "markdown",
      "metadata": {
        "id": "view-in-github",
        "colab_type": "text"
      },
      "source": [
        "<a href=\"https://colab.research.google.com/github/adeoluafo/FDSDE_AAfolabi/blob/main/ClassDemo/ClassDemo_9_9__24Afolabi_Adeolu.ipynb\" target=\"_parent\"><img src=\"https://colab.research.google.com/assets/colab-badge.svg\" alt=\"Open In Colab\"/></a>"
      ]
    },
    {
      "cell_type": "code",
      "execution_count": null,
      "metadata": {
        "id": "mfZcJ4SSdOzR"
      },
      "outputs": [],
      "source": [
        "import pandas as pd\n",
        "import matplotlib.pyplot as plt"
      ]
    },
    {
      "cell_type": "code",
      "source": [
        "videos = pd.read_csv(\"https://raw.githubusercontent.com/fedhere/FDSFE_FBianco/main/data/USyoutubes.csv\")"
      ],
      "metadata": {
        "id": "NAHk_bgOfRAr"
      },
      "execution_count": null,
      "outputs": []
    },
    {
      "cell_type": "code",
      "source": [
        "videos_restrict = videos[[\"title\", \"views\", \"likes\", \"dislikes\", \"comment_count\"]]"
      ],
      "metadata": {
        "id": "X8346KNPfquk"
      },
      "execution_count": null,
      "outputs": []
    },
    {
      "cell_type": "code",
      "source": [
        "videos_restrict.head()"
      ],
      "metadata": {
        "id": "CjstNtlsf8-x"
      },
      "execution_count": null,
      "outputs": []
    },
    {
      "cell_type": "code",
      "source": [
        "videos_restrict.tail()"
      ],
      "metadata": {
        "id": "NjUODZlQgBVe"
      },
      "execution_count": null,
      "outputs": []
    },
    {
      "cell_type": "code",
      "source": [
        "videos_restrict[\"likes\"].max()"
      ],
      "metadata": {
        "colab": {
          "base_uri": "https://localhost:8080/"
        },
        "id": "DyZYjoRThUVm",
        "outputId": "9f153cdf-0717-4638-8515-f528ac883ba4"
      },
      "execution_count": null,
      "outputs": [
        {
          "output_type": "execute_result",
          "data": {
            "text/plain": [
              "5613827"
            ]
          },
          "metadata": {},
          "execution_count": 23
        }
      ]
    },
    {
      "cell_type": "code",
      "source": [
        "videos_restrict[\"likes\"].min()"
      ],
      "metadata": {
        "id": "O_l6Nf3jhYy_"
      },
      "execution_count": null,
      "outputs": []
    },
    {
      "cell_type": "code",
      "source": [
        "max_likes = videos_restrict[\"likes\"].max()"
      ],
      "metadata": {
        "id": "yTqGXC0GhcBN"
      },
      "execution_count": null,
      "outputs": []
    },
    {
      "cell_type": "code",
      "source": [
        "max_dislikes = videos_restrict[\"dislikes\"].max()\n",
        "videos[videos[\"dislikes\"] == max_dislikes]"
      ],
      "metadata": {
        "id": "QL5lYn6xk2-y"
      },
      "execution_count": null,
      "outputs": []
    },
    {
      "cell_type": "code",
      "source": [
        "min_likes = videos_restrict[\"likes\"].min()\n",
        "videos[videos[\"likes\"] == min_likes]"
      ],
      "metadata": {
        "id": "sc-4ysqxmi1f"
      },
      "execution_count": null,
      "outputs": []
    },
    {
      "cell_type": "code",
      "source": [
        "videos_restrict.describe()"
      ],
      "metadata": {
        "id": "eApyWORapuNW"
      },
      "execution_count": null,
      "outputs": []
    },
    {
      "cell_type": "code",
      "source": [
        "pd.plotting.scatter_matrix(videos_restrict);"
      ],
      "metadata": {
        "collapsed": true,
        "id": "tMU6eXwtqWNo"
      },
      "execution_count": null,
      "outputs": []
    },
    {
      "cell_type": "code",
      "source": [
        "ax = videos_restrict[\"likes\"].hist()\n",
        "ax.set_xlabel(\"Number of likes\")\n",
        "ax.set_yscale(\"log\")"
      ],
      "metadata": {
        "id": "y1-oPu_DsYT_"
      },
      "execution_count": null,
      "outputs": []
    }
  ]
}